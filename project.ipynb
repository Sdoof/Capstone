{
 "cells": [
  {
   "cell_type": "markdown",
   "metadata": {},
   "source": [
    "<h1>Capstone Project</h1>"
   ]
  },
  {
   "cell_type": "markdown",
   "metadata": {},
   "source": [
    "<h2>Stock Prediction Using Twitter Sentiment Analysis</h2>"
   ]
  },
  {
   "cell_type": "markdown",
   "metadata": {},
   "source": [
    "### Load the datatset"
   ]
  },
  {
   "cell_type": "code",
   "execution_count": 49,
   "metadata": {},
   "outputs": [
    {
     "data": {
      "text/html": [
       "<div>\n",
       "<style>\n",
       "    .dataframe thead tr:only-child th {\n",
       "        text-align: right;\n",
       "    }\n",
       "\n",
       "    .dataframe thead th {\n",
       "        text-align: left;\n",
       "    }\n",
       "\n",
       "    .dataframe tbody tr th {\n",
       "        vertical-align: top;\n",
       "    }\n",
       "</style>\n",
       "<table border=\"1\" class=\"dataframe\">\n",
       "  <thead>\n",
       "    <tr style=\"text-align: right;\">\n",
       "      <th></th>\n",
       "      <th>S.no.</th>\n",
       "      <th>Date</th>\n",
       "      <th>Open</th>\n",
       "      <th>High</th>\n",
       "      <th>Low</th>\n",
       "      <th>Close</th>\n",
       "      <th>neg</th>\n",
       "      <th>pos</th>\n",
       "    </tr>\n",
       "  </thead>\n",
       "  <tbody>\n",
       "    <tr>\n",
       "      <th>0</th>\n",
       "      <td>0</td>\n",
       "      <td>2009-06-18</td>\n",
       "      <td>8496.73</td>\n",
       "      <td>8590.52</td>\n",
       "      <td>8475.12</td>\n",
       "      <td>8555.60</td>\n",
       "      <td>0.6436</td>\n",
       "      <td>0.3564</td>\n",
       "    </tr>\n",
       "    <tr>\n",
       "      <th>1</th>\n",
       "      <td>1</td>\n",
       "      <td>2009-06-19</td>\n",
       "      <td>8556.96</td>\n",
       "      <td>8616.59</td>\n",
       "      <td>8496.73</td>\n",
       "      <td>8539.73</td>\n",
       "      <td>0.6369</td>\n",
       "      <td>0.3631</td>\n",
       "    </tr>\n",
       "    <tr>\n",
       "      <th>2</th>\n",
       "      <td>2</td>\n",
       "      <td>2009-06-20</td>\n",
       "      <td>8547.74</td>\n",
       "      <td>8577.71</td>\n",
       "      <td>8415.64</td>\n",
       "      <td>8439.37</td>\n",
       "      <td>0.6488</td>\n",
       "      <td>0.3512</td>\n",
       "    </tr>\n",
       "    <tr>\n",
       "      <th>3</th>\n",
       "      <td>3</td>\n",
       "      <td>2009-06-21</td>\n",
       "      <td>8543.13</td>\n",
       "      <td>8558.27</td>\n",
       "      <td>8375.09</td>\n",
       "      <td>8389.19</td>\n",
       "      <td>0.6476</td>\n",
       "      <td>0.3524</td>\n",
       "    </tr>\n",
       "    <tr>\n",
       "      <th>4</th>\n",
       "      <td>4</td>\n",
       "      <td>2009-06-22</td>\n",
       "      <td>8538.52</td>\n",
       "      <td>8538.83</td>\n",
       "      <td>8334.55</td>\n",
       "      <td>8339.01</td>\n",
       "      <td>0.6476</td>\n",
       "      <td>0.3524</td>\n",
       "    </tr>\n",
       "  </tbody>\n",
       "</table>\n",
       "</div>"
      ],
      "text/plain": [
       "   S.no.        Date     Open     High      Low    Close     neg     pos\n",
       "0      0  2009-06-18  8496.73  8590.52  8475.12  8555.60  0.6436  0.3564\n",
       "1      1  2009-06-19  8556.96  8616.59  8496.73  8539.73  0.6369  0.3631\n",
       "2      2  2009-06-20  8547.74  8577.71  8415.64  8439.37  0.6488  0.3512\n",
       "3      3  2009-06-21  8543.13  8558.27  8375.09  8389.19  0.6476  0.3524\n",
       "4      4  2009-06-22  8538.52  8538.83  8334.55  8339.01  0.6476  0.3524"
      ]
     },
     "execution_count": 49,
     "metadata": {},
     "output_type": "execute_result"
    }
   ],
   "source": [
    "import pandas as pd\n",
    "\n",
    "fname = open('finalData.csv', 'r')\n",
    "df = pd.read_csv(fname)\n",
    "df.head()"
   ]
  },
  {
   "cell_type": "code",
   "execution_count": 50,
   "metadata": {},
   "outputs": [],
   "source": [
    "'''\n",
    "make the train and testing dataset.\n",
    "'''\n",
    "train_df = df[:int(len(df)*0.8)]\n",
    "test_df = df[int(len(df)*0.8):]"
   ]
  },
  {
   "cell_type": "code",
   "execution_count": 54,
   "metadata": {},
   "outputs": [
    {
     "data": {
      "text/plain": [
       "8496.7299999999996"
      ]
     },
     "execution_count": 54,
     "metadata": {},
     "output_type": "execute_result"
    }
   ],
   "source": [
    "train_df.loc[1]['Low']"
   ]
  },
  {
   "cell_type": "code",
   "execution_count": 78,
   "metadata": {},
   "outputs": [],
   "source": [
    "def build_set(t_df):\n",
    "    count = len(t_df)\n",
    "    data_row = {'Date':[], 'Open':[], 'High': [], 'Low':[], 'Close':[], 'neg': [], 'pos': [], 'target': []}\n",
    "    for i in range(count-1):\n",
    "        data_row['Date'].append(t_df.loc[i]['Date'])\n",
    "        data_row['Open'].append(t_df.loc[i]['Open'])\n",
    "        data_row['High'].append(t_df.loc[i]['High'])\n",
    "        data_row['Low'].append(t_df.loc[i]['Low'])\n",
    "        data_row['Close'].append(t_df.loc[i]['Close'])\n",
    "        data_row['neg'].append(t_df.loc[i]['neg'])\n",
    "        data_row['pos'].append(t_df.loc[i]['pos'])\n",
    "        data_row['target'].append(t_df.loc[i+1]['Close'])\n",
    "    \n",
    "#     return data_row\n",
    "    final_df = pd.DataFrame.from_dict(data=data_row,orient='columns', dtype=None)\n",
    "    return final_df"
   ]
  },
  {
   "cell_type": "code",
   "execution_count": 80,
   "metadata": {},
   "outputs": [
    {
     "data": {
      "text/html": [
       "<div>\n",
       "<style>\n",
       "    .dataframe thead tr:only-child th {\n",
       "        text-align: right;\n",
       "    }\n",
       "\n",
       "    .dataframe thead th {\n",
       "        text-align: left;\n",
       "    }\n",
       "\n",
       "    .dataframe tbody tr th {\n",
       "        vertical-align: top;\n",
       "    }\n",
       "</style>\n",
       "<table border=\"1\" class=\"dataframe\">\n",
       "  <thead>\n",
       "    <tr style=\"text-align: right;\">\n",
       "      <th></th>\n",
       "      <th>Close</th>\n",
       "      <th>Date</th>\n",
       "      <th>High</th>\n",
       "      <th>Low</th>\n",
       "      <th>Open</th>\n",
       "      <th>neg</th>\n",
       "      <th>pos</th>\n",
       "      <th>target</th>\n",
       "    </tr>\n",
       "  </thead>\n",
       "  <tbody>\n",
       "    <tr>\n",
       "      <th>0</th>\n",
       "      <td>8555.60</td>\n",
       "      <td>2009-06-18</td>\n",
       "      <td>8590.52</td>\n",
       "      <td>8475.12</td>\n",
       "      <td>8496.73</td>\n",
       "      <td>0.6436</td>\n",
       "      <td>0.3564</td>\n",
       "      <td>8539.73</td>\n",
       "    </tr>\n",
       "    <tr>\n",
       "      <th>1</th>\n",
       "      <td>8539.73</td>\n",
       "      <td>2009-06-19</td>\n",
       "      <td>8616.59</td>\n",
       "      <td>8496.73</td>\n",
       "      <td>8556.96</td>\n",
       "      <td>0.6369</td>\n",
       "      <td>0.3631</td>\n",
       "      <td>8439.37</td>\n",
       "    </tr>\n",
       "    <tr>\n",
       "      <th>2</th>\n",
       "      <td>8439.37</td>\n",
       "      <td>2009-06-20</td>\n",
       "      <td>8577.71</td>\n",
       "      <td>8415.64</td>\n",
       "      <td>8547.74</td>\n",
       "      <td>0.6488</td>\n",
       "      <td>0.3512</td>\n",
       "      <td>8389.19</td>\n",
       "    </tr>\n",
       "    <tr>\n",
       "      <th>3</th>\n",
       "      <td>8389.19</td>\n",
       "      <td>2009-06-21</td>\n",
       "      <td>8558.27</td>\n",
       "      <td>8375.09</td>\n",
       "      <td>8543.13</td>\n",
       "      <td>0.6476</td>\n",
       "      <td>0.3524</td>\n",
       "      <td>8339.01</td>\n",
       "    </tr>\n",
       "    <tr>\n",
       "      <th>4</th>\n",
       "      <td>8339.01</td>\n",
       "      <td>2009-06-22</td>\n",
       "      <td>8538.83</td>\n",
       "      <td>8334.55</td>\n",
       "      <td>8538.52</td>\n",
       "      <td>0.6476</td>\n",
       "      <td>0.3524</td>\n",
       "      <td>8322.91</td>\n",
       "    </tr>\n",
       "  </tbody>\n",
       "</table>\n",
       "</div>"
      ],
      "text/plain": [
       "     Close        Date     High      Low     Open     neg     pos   target\n",
       "0  8555.60  2009-06-18  8590.52  8475.12  8496.73  0.6436  0.3564  8539.73\n",
       "1  8539.73  2009-06-19  8616.59  8496.73  8556.96  0.6369  0.3631  8439.37\n",
       "2  8439.37  2009-06-20  8577.71  8415.64  8547.74  0.6488  0.3512  8389.19\n",
       "3  8389.19  2009-06-21  8558.27  8375.09  8543.13  0.6476  0.3524  8339.01\n",
       "4  8339.01  2009-06-22  8538.83  8334.55  8538.52  0.6476  0.3524  8322.91"
      ]
     },
     "execution_count": 80,
     "metadata": {},
     "output_type": "execute_result"
    }
   ],
   "source": [
    "data = build_set(train_df)\n",
    "data.head()"
   ]
  },
  {
   "cell_type": "code",
   "execution_count": null,
   "metadata": {
    "collapsed": true
   },
   "outputs": [],
   "source": []
  },
  {
   "cell_type": "code",
   "execution_count": null,
   "metadata": {
    "collapsed": true
   },
   "outputs": [],
   "source": []
  }
 ],
 "metadata": {
  "kernelspec": {
   "display_name": "Python 2",
   "language": "python",
   "name": "python2"
  },
  "language_info": {
   "codemirror_mode": {
    "name": "ipython",
    "version": 2
   },
   "file_extension": ".py",
   "mimetype": "text/x-python",
   "name": "python",
   "nbconvert_exporter": "python",
   "pygments_lexer": "ipython2",
   "version": "2.7.12"
  }
 },
 "nbformat": 4,
 "nbformat_minor": 2
}
