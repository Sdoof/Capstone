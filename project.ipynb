{
 "cells": [
  {
   "cell_type": "markdown",
   "metadata": {},
   "source": [
    "<h1>Capstone Project</h1>"
   ]
  },
  {
   "cell_type": "markdown",
   "metadata": {},
   "source": [
    "<h2>Stock Prediction Using Twitter Sentiment Analysis</h2>"
   ]
  },
  {
   "cell_type": "code",
   "execution_count": 1,
   "metadata": {},
   "outputs": [
    {
     "data": {
      "text/html": [
       "<div>\n",
       "<style>\n",
       "    .dataframe thead tr:only-child th {\n",
       "        text-align: right;\n",
       "    }\n",
       "\n",
       "    .dataframe thead th {\n",
       "        text-align: left;\n",
       "    }\n",
       "\n",
       "    .dataframe tbody tr th {\n",
       "        vertical-align: top;\n",
       "    }\n",
       "</style>\n",
       "<table border=\"1\" class=\"dataframe\">\n",
       "  <thead>\n",
       "    <tr style=\"text-align: right;\">\n",
       "      <th></th>\n",
       "      <th>Date</th>\n",
       "      <th>Open</th>\n",
       "      <th>High</th>\n",
       "      <th>Low</th>\n",
       "      <th>Close</th>\n",
       "    </tr>\n",
       "  </thead>\n",
       "  <tbody>\n",
       "    <tr>\n",
       "      <th>0</th>\n",
       "      <td>12/16/09</td>\n",
       "      <td>10449.81</td>\n",
       "      <td>10509.97</td>\n",
       "      <td>10427.59</td>\n",
       "      <td>10441.12</td>\n",
       "    </tr>\n",
       "    <tr>\n",
       "      <th>1</th>\n",
       "      <td>12/15/09</td>\n",
       "      <td>10499.31</td>\n",
       "      <td>10499.31</td>\n",
       "      <td>10426.69</td>\n",
       "      <td>10452.00</td>\n",
       "    </tr>\n",
       "    <tr>\n",
       "      <th>2</th>\n",
       "      <td>12/14/09</td>\n",
       "      <td>10471.28</td>\n",
       "      <td>10514.66</td>\n",
       "      <td>10471.28</td>\n",
       "      <td>10501.05</td>\n",
       "    </tr>\n",
       "    <tr>\n",
       "      <th>3</th>\n",
       "      <td>12/13/09</td>\n",
       "      <td>10420.38</td>\n",
       "      <td>10491.70</td>\n",
       "      <td>10417.88</td>\n",
       "      <td>10478.89</td>\n",
       "    </tr>\n",
       "    <tr>\n",
       "      <th>4</th>\n",
       "      <td>12/12/09</td>\n",
       "      <td>10437.35</td>\n",
       "      <td>10499.35</td>\n",
       "      <td>10435.68</td>\n",
       "      <td>10486.27</td>\n",
       "    </tr>\n",
       "  </tbody>\n",
       "</table>\n",
       "</div>"
      ],
      "text/plain": [
       "       Date      Open      High       Low     Close\n",
       "0  12/16/09  10449.81  10509.97  10427.59  10441.12\n",
       "1  12/15/09  10499.31  10499.31  10426.69  10452.00\n",
       "2  12/14/09  10471.28  10514.66  10471.28  10501.05\n",
       "3  12/13/09  10420.38  10491.70  10417.88  10478.89\n",
       "4  12/12/09  10437.35  10499.35  10435.68  10486.27"
      ]
     },
     "metadata": {},
     "output_type": "display_data"
    }
   ],
   "source": [
    "'''\n",
    "load the dataset DJIA dataset(June 2009 to December 2009)\n",
    "'''\n",
    "\n",
    "import os\n",
    "import numpy as np\n",
    "import pandas as pd\n",
    "from IPython.display import display\n",
    "\n",
    "data = open('HistoricalPrices.csv', 'rb')\n",
    "\n",
    "df = pd.read_csv(data)\n",
    "display(df.head(5))"
   ]
  },
  {
   "cell_type": "code",
   "execution_count": 2,
   "metadata": {},
   "outputs": [
    {
     "data": {
      "text/plain": [
       "'12/13/09'"
      ]
     },
     "execution_count": 2,
     "metadata": {},
     "output_type": "execute_result"
    }
   ],
   "source": [
    "df.iloc[3]['Date']"
   ]
  },
  {
   "cell_type": "code",
   "execution_count": 3,
   "metadata": {
    "scrolled": false
   },
   "outputs": [
    {
     "data": {
      "text/html": [
       "<div>\n",
       "<style>\n",
       "    .dataframe thead tr:only-child th {\n",
       "        text-align: right;\n",
       "    }\n",
       "\n",
       "    .dataframe thead th {\n",
       "        text-align: left;\n",
       "    }\n",
       "\n",
       "    .dataframe tbody tr th {\n",
       "        vertical-align: top;\n",
       "    }\n",
       "</style>\n",
       "<table border=\"1\" class=\"dataframe\">\n",
       "  <thead>\n",
       "    <tr style=\"text-align: right;\">\n",
       "      <th></th>\n",
       "      <th>Date</th>\n",
       "      <th>Name</th>\n",
       "      <th>Tweets</th>\n",
       "      <th>sentiment</th>\n",
       "    </tr>\n",
       "  </thead>\n",
       "  <tbody>\n",
       "    <tr>\n",
       "      <th>0</th>\n",
       "      <td>17 Jun 2009</td>\n",
       "      <td>Rodney Holston</td>\n",
       "      <td>is taking this day to relax and catch up on sl...</td>\n",
       "      <td>1</td>\n",
       "    </tr>\n",
       "    <tr>\n",
       "      <th>1</th>\n",
       "      <td>17 Jun 2009</td>\n",
       "      <td>Angie</td>\n",
       "      <td>went to chiro today very sore now but know i w...</td>\n",
       "      <td>0</td>\n",
       "    </tr>\n",
       "    <tr>\n",
       "      <th>2</th>\n",
       "      <td>17 Jun 2009</td>\n",
       "      <td>Jaxon Brooks</td>\n",
       "      <td>updated the iphone 2g to os 3 0 feels zippier ...</td>\n",
       "      <td>0</td>\n",
       "    </tr>\n",
       "    <tr>\n",
       "      <th>3</th>\n",
       "      <td>17 Jun 2009</td>\n",
       "      <td>K</td>\n",
       "      <td>i am sooo hyped for this weekend going to va f...</td>\n",
       "      <td>1</td>\n",
       "    </tr>\n",
       "    <tr>\n",
       "      <th>4</th>\n",
       "      <td>17 Jun 2009</td>\n",
       "      <td>Nicola Atkins</td>\n",
       "      <td>was feeling down earlier but two wonderful fri...</td>\n",
       "      <td>1</td>\n",
       "    </tr>\n",
       "  </tbody>\n",
       "</table>\n",
       "</div>"
      ],
      "text/plain": [
       "          Date            Name  \\\n",
       "0  17 Jun 2009  Rodney Holston   \n",
       "1  17 Jun 2009           Angie   \n",
       "2  17 Jun 2009    Jaxon Brooks   \n",
       "3  17 Jun 2009               K   \n",
       "4  17 Jun 2009   Nicola Atkins   \n",
       "\n",
       "                                              Tweets  sentiment  \n",
       "0  is taking this day to relax and catch up on sl...          1  \n",
       "1  went to chiro today very sore now but know i w...          0  \n",
       "2  updated the iphone 2g to os 3 0 feels zippier ...          0  \n",
       "3  i am sooo hyped for this weekend going to va f...          1  \n",
       "4  was feeling down earlier but two wonderful fri...          1  "
      ]
     },
     "metadata": {},
     "output_type": "display_data"
    }
   ],
   "source": [
    "'''\n",
    "get all the tweets\n",
    "'''\n",
    "\n",
    "tweets = open('TaggedData.csv', 'rb')\n",
    "thead = pd.read_csv(tweets, usecols=['Date', 'Name', 'Tweets', 'sentiment'])\n",
    "display(thead.head(5))"
   ]
  },
  {
   "cell_type": "code",
   "execution_count": 23,
   "metadata": {},
   "outputs": [
    {
     "name": "stdout",
     "output_type": "stream",
     "text": [
      "731 1268\n"
     ]
    }
   ],
   "source": [
    "from matplotlib import pyplot as plt\n",
    "thead.drop('Name', axis=1)\n",
    "thead.drop('Tweets', axis=1)\n",
    "count = 0\n",
    "for i in thead['sentiment']:\n",
    "    try:\n",
    "        i = int(i)\n",
    "        count+=1\n",
    "    except:\n",
    "        print(count),\n",
    "pos=0;neg=0\n",
    "for i in range(25001, 27000):\n",
    "    x = thead.loc[i].sentiment\n",
    "    if x==1:\n",
    "        pos+=1\n",
    "    elif x == 0:\n",
    "        neg+=1\n",
    "print pos, neg\n",
    "# thead.plot(style=['0', 'rx'])"
   ]
  },
  {
   "cell_type": "code",
   "execution_count": null,
   "metadata": {
    "collapsed": true
   },
   "outputs": [],
   "source": []
  }
 ],
 "metadata": {
  "kernelspec": {
   "display_name": "Python 2",
   "language": "python",
   "name": "python2"
  },
  "language_info": {
   "codemirror_mode": {
    "name": "ipython",
    "version": 2
   },
   "file_extension": ".py",
   "mimetype": "text/x-python",
   "name": "python",
   "nbconvert_exporter": "python",
   "pygments_lexer": "ipython2",
   "version": "2.7.12"
  }
 },
 "nbformat": 4,
 "nbformat_minor": 2
}
