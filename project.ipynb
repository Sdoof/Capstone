{
 "cells": [
  {
   "cell_type": "markdown",
   "metadata": {},
   "source": [
    "<h1>Capstone Project</h1>"
   ]
  },
  {
   "cell_type": "markdown",
   "metadata": {},
   "source": [
    "<h2>Stock Prediction Using Twitter Sentiment Analysis</h2>"
   ]
  },
  {
   "cell_type": "markdown",
   "metadata": {},
   "source": [
    "### Load the datatset"
   ]
  },
  {
   "cell_type": "code",
   "execution_count": 1,
   "metadata": {},
   "outputs": [
    {
     "data": {
      "text/html": [
       "<div>\n",
       "<style>\n",
       "    .dataframe thead tr:only-child th {\n",
       "        text-align: right;\n",
       "    }\n",
       "\n",
       "    .dataframe thead th {\n",
       "        text-align: left;\n",
       "    }\n",
       "\n",
       "    .dataframe tbody tr th {\n",
       "        vertical-align: top;\n",
       "    }\n",
       "</style>\n",
       "<table border=\"1\" class=\"dataframe\">\n",
       "  <thead>\n",
       "    <tr style=\"text-align: right;\">\n",
       "      <th></th>\n",
       "      <th>S.no.</th>\n",
       "      <th>Date</th>\n",
       "      <th>Open</th>\n",
       "      <th>High</th>\n",
       "      <th>Low</th>\n",
       "      <th>Close</th>\n",
       "      <th>neg</th>\n",
       "      <th>pos</th>\n",
       "    </tr>\n",
       "  </thead>\n",
       "  <tbody>\n",
       "    <tr>\n",
       "      <th>0</th>\n",
       "      <td>0</td>\n",
       "      <td>2009-06-18</td>\n",
       "      <td>8496.73</td>\n",
       "      <td>8590.52</td>\n",
       "      <td>8475.12</td>\n",
       "      <td>8555.60</td>\n",
       "      <td>0.6436</td>\n",
       "      <td>0.3564</td>\n",
       "    </tr>\n",
       "    <tr>\n",
       "      <th>1</th>\n",
       "      <td>1</td>\n",
       "      <td>2009-06-19</td>\n",
       "      <td>8556.96</td>\n",
       "      <td>8616.59</td>\n",
       "      <td>8496.73</td>\n",
       "      <td>8539.73</td>\n",
       "      <td>0.6369</td>\n",
       "      <td>0.3631</td>\n",
       "    </tr>\n",
       "    <tr>\n",
       "      <th>2</th>\n",
       "      <td>2</td>\n",
       "      <td>2009-06-20</td>\n",
       "      <td>8547.74</td>\n",
       "      <td>8577.71</td>\n",
       "      <td>8415.64</td>\n",
       "      <td>8439.37</td>\n",
       "      <td>0.6488</td>\n",
       "      <td>0.3512</td>\n",
       "    </tr>\n",
       "    <tr>\n",
       "      <th>3</th>\n",
       "      <td>3</td>\n",
       "      <td>2009-06-21</td>\n",
       "      <td>8543.13</td>\n",
       "      <td>8558.27</td>\n",
       "      <td>8375.09</td>\n",
       "      <td>8389.19</td>\n",
       "      <td>0.6476</td>\n",
       "      <td>0.3524</td>\n",
       "    </tr>\n",
       "    <tr>\n",
       "      <th>4</th>\n",
       "      <td>4</td>\n",
       "      <td>2009-06-22</td>\n",
       "      <td>8538.52</td>\n",
       "      <td>8538.83</td>\n",
       "      <td>8334.55</td>\n",
       "      <td>8339.01</td>\n",
       "      <td>0.6476</td>\n",
       "      <td>0.3524</td>\n",
       "    </tr>\n",
       "  </tbody>\n",
       "</table>\n",
       "</div>"
      ],
      "text/plain": [
       "   S.no.        Date     Open     High      Low    Close     neg     pos\n",
       "0      0  2009-06-18  8496.73  8590.52  8475.12  8555.60  0.6436  0.3564\n",
       "1      1  2009-06-19  8556.96  8616.59  8496.73  8539.73  0.6369  0.3631\n",
       "2      2  2009-06-20  8547.74  8577.71  8415.64  8439.37  0.6488  0.3512\n",
       "3      3  2009-06-21  8543.13  8558.27  8375.09  8389.19  0.6476  0.3524\n",
       "4      4  2009-06-22  8538.52  8538.83  8334.55  8339.01  0.6476  0.3524"
      ]
     },
     "execution_count": 1,
     "metadata": {},
     "output_type": "execute_result"
    }
   ],
   "source": [
    "import pandas as pd\n",
    "\n",
    "fname = open('finalData.csv', 'r')\n",
    "df = pd.read_csv(fname)\n",
    "df.head()"
   ]
  },
  {
   "cell_type": "code",
   "execution_count": 2,
   "metadata": {
    "collapsed": true
   },
   "outputs": [],
   "source": [
    "'''\n",
    "make the train and testing dataset.\n",
    "'''\n",
    "train_df = df[:int(len(df)*0.8)]\n",
    "test_df = df[int(len(df)*0.8):]"
   ]
  },
  {
   "cell_type": "code",
   "execution_count": 3,
   "metadata": {},
   "outputs": [
    {
     "data": {
      "text/plain": [
       "8496.7299999999996"
      ]
     },
     "execution_count": 3,
     "metadata": {},
     "output_type": "execute_result"
    }
   ],
   "source": [
    "train_df.loc[1]['Low']"
   ]
  },
  {
   "cell_type": "code",
   "execution_count": 4,
   "metadata": {
    "collapsed": true
   },
   "outputs": [],
   "source": [
    "def build_set(t_df):\n",
    "    count = len(t_df)\n",
    "    data_row = {'Date':[], 'Open':[], 'High': [], 'Low':[], 'Close':[], 'neg': [], 'pos': [], 'target': []}\n",
    "    for i in range(count-1):\n",
    "        data_row['Date'].append(t_df.loc[i]['Date'])\n",
    "        data_row['Open'].append(t_df.loc[i]['Open'])\n",
    "        data_row['High'].append(t_df.loc[i]['High'])\n",
    "        data_row['Low'].append(t_df.loc[i]['Low'])\n",
    "        data_row['Close'].append(t_df.loc[i]['Close'])\n",
    "        data_row['neg'].append(t_df.loc[i]['neg'])\n",
    "        data_row['pos'].append(t_df.loc[i]['pos'])\n",
    "        data_row['target'].append(t_df.loc[i+1]['Close'])\n",
    "    \n",
    "#     return data_row\n",
    "    final_df = pd.DataFrame.from_dict(data=data_row,orient='columns', dtype=None)\n",
    "    return final_df"
   ]
  },
  {
   "cell_type": "code",
   "execution_count": 62,
   "metadata": {
    "collapsed": true
   },
   "outputs": [],
   "source": [
    "train_data = build_set(train_df)"
   ]
  },
  {
   "cell_type": "code",
   "execution_count": 63,
   "metadata": {},
   "outputs": [
    {
     "data": {
      "text/html": [
       "<div>\n",
       "<style>\n",
       "    .dataframe thead tr:only-child th {\n",
       "        text-align: right;\n",
       "    }\n",
       "\n",
       "    .dataframe thead th {\n",
       "        text-align: left;\n",
       "    }\n",
       "\n",
       "    .dataframe tbody tr th {\n",
       "        vertical-align: top;\n",
       "    }\n",
       "</style>\n",
       "<table border=\"1\" class=\"dataframe\">\n",
       "  <thead>\n",
       "    <tr style=\"text-align: right;\">\n",
       "      <th></th>\n",
       "      <th>Close</th>\n",
       "      <th>High</th>\n",
       "      <th>Low</th>\n",
       "      <th>Open</th>\n",
       "      <th>neg</th>\n",
       "      <th>pos</th>\n",
       "    </tr>\n",
       "  </thead>\n",
       "  <tbody>\n",
       "    <tr>\n",
       "      <th>0</th>\n",
       "      <td>8555.60</td>\n",
       "      <td>8590.52</td>\n",
       "      <td>8475.12</td>\n",
       "      <td>8496.73</td>\n",
       "      <td>0.6436</td>\n",
       "      <td>0.3564</td>\n",
       "    </tr>\n",
       "    <tr>\n",
       "      <th>1</th>\n",
       "      <td>8539.73</td>\n",
       "      <td>8616.59</td>\n",
       "      <td>8496.73</td>\n",
       "      <td>8556.96</td>\n",
       "      <td>0.6369</td>\n",
       "      <td>0.3631</td>\n",
       "    </tr>\n",
       "    <tr>\n",
       "      <th>2</th>\n",
       "      <td>8439.37</td>\n",
       "      <td>8577.71</td>\n",
       "      <td>8415.64</td>\n",
       "      <td>8547.74</td>\n",
       "      <td>0.6488</td>\n",
       "      <td>0.3512</td>\n",
       "    </tr>\n",
       "    <tr>\n",
       "      <th>3</th>\n",
       "      <td>8389.19</td>\n",
       "      <td>8558.27</td>\n",
       "      <td>8375.09</td>\n",
       "      <td>8543.13</td>\n",
       "      <td>0.6476</td>\n",
       "      <td>0.3524</td>\n",
       "    </tr>\n",
       "    <tr>\n",
       "      <th>4</th>\n",
       "      <td>8339.01</td>\n",
       "      <td>8538.83</td>\n",
       "      <td>8334.55</td>\n",
       "      <td>8538.52</td>\n",
       "      <td>0.6476</td>\n",
       "      <td>0.3524</td>\n",
       "    </tr>\n",
       "  </tbody>\n",
       "</table>\n",
       "</div>"
      ],
      "text/plain": [
       "     Close     High      Low     Open     neg     pos\n",
       "0  8555.60  8590.52  8475.12  8496.73  0.6436  0.3564\n",
       "1  8539.73  8616.59  8496.73  8556.96  0.6369  0.3631\n",
       "2  8439.37  8577.71  8415.64  8547.74  0.6488  0.3512\n",
       "3  8389.19  8558.27  8375.09  8543.13  0.6476  0.3524\n",
       "4  8339.01  8538.83  8334.55  8538.52  0.6476  0.3524"
      ]
     },
     "execution_count": 63,
     "metadata": {},
     "output_type": "execute_result"
    }
   ],
   "source": [
    "train_targets = train_data['target']\n",
    "train_data_labels = train_data.drop(['Date' ,'target'], axis=1)\n",
    "train_data_labels.head()"
   ]
  },
  {
   "cell_type": "markdown",
   "metadata": {},
   "source": [
    "### Treating it as a supervised classification problem"
   ]
  },
  {
   "cell_type": "code",
   "execution_count": 64,
   "metadata": {},
   "outputs": [
    {
     "name": "stderr",
     "output_type": "stream",
     "text": [
      "/usr/local/lib/python2.7/dist-packages/ipykernel_launcher.py:5: DeprecationWarning: \n",
      ".ix is deprecated. Please use\n",
      ".loc for label based indexing or\n",
      ".iloc for positional indexing\n",
      "\n",
      "See the documentation here:\n",
      "http://pandas.pydata.org/pandas-docs/stable/indexing.html#deprecate_ix\n",
      "  \"\"\"\n"
     ]
    }
   ],
   "source": [
    "for index, row in train_data.iterrows():\n",
    "    if row['target'] > row['Close']:\n",
    "        train_data.ix[index, 'target'] = 1\n",
    "    else:\n",
    "        train_data.ix[index, 'target'] = 0"
   ]
  },
  {
   "cell_type": "code",
   "execution_count": 65,
   "metadata": {},
   "outputs": [
    {
     "data": {
      "text/html": [
       "<div>\n",
       "<style>\n",
       "    .dataframe thead tr:only-child th {\n",
       "        text-align: right;\n",
       "    }\n",
       "\n",
       "    .dataframe thead th {\n",
       "        text-align: left;\n",
       "    }\n",
       "\n",
       "    .dataframe tbody tr th {\n",
       "        vertical-align: top;\n",
       "    }\n",
       "</style>\n",
       "<table border=\"1\" class=\"dataframe\">\n",
       "  <thead>\n",
       "    <tr style=\"text-align: right;\">\n",
       "      <th></th>\n",
       "      <th>Close</th>\n",
       "      <th>Date</th>\n",
       "      <th>High</th>\n",
       "      <th>Low</th>\n",
       "      <th>Open</th>\n",
       "      <th>neg</th>\n",
       "      <th>pos</th>\n",
       "      <th>target</th>\n",
       "    </tr>\n",
       "  </thead>\n",
       "  <tbody>\n",
       "    <tr>\n",
       "      <th>0</th>\n",
       "      <td>8555.60</td>\n",
       "      <td>2009-06-18</td>\n",
       "      <td>8590.52</td>\n",
       "      <td>8475.12</td>\n",
       "      <td>8496.73</td>\n",
       "      <td>0.6436</td>\n",
       "      <td>0.3564</td>\n",
       "      <td>0.0</td>\n",
       "    </tr>\n",
       "    <tr>\n",
       "      <th>1</th>\n",
       "      <td>8539.73</td>\n",
       "      <td>2009-06-19</td>\n",
       "      <td>8616.59</td>\n",
       "      <td>8496.73</td>\n",
       "      <td>8556.96</td>\n",
       "      <td>0.6369</td>\n",
       "      <td>0.3631</td>\n",
       "      <td>0.0</td>\n",
       "    </tr>\n",
       "    <tr>\n",
       "      <th>2</th>\n",
       "      <td>8439.37</td>\n",
       "      <td>2009-06-20</td>\n",
       "      <td>8577.71</td>\n",
       "      <td>8415.64</td>\n",
       "      <td>8547.74</td>\n",
       "      <td>0.6488</td>\n",
       "      <td>0.3512</td>\n",
       "      <td>0.0</td>\n",
       "    </tr>\n",
       "    <tr>\n",
       "      <th>3</th>\n",
       "      <td>8389.19</td>\n",
       "      <td>2009-06-21</td>\n",
       "      <td>8558.27</td>\n",
       "      <td>8375.09</td>\n",
       "      <td>8543.13</td>\n",
       "      <td>0.6476</td>\n",
       "      <td>0.3524</td>\n",
       "      <td>0.0</td>\n",
       "    </tr>\n",
       "    <tr>\n",
       "      <th>4</th>\n",
       "      <td>8339.01</td>\n",
       "      <td>2009-06-22</td>\n",
       "      <td>8538.83</td>\n",
       "      <td>8334.55</td>\n",
       "      <td>8538.52</td>\n",
       "      <td>0.6476</td>\n",
       "      <td>0.3524</td>\n",
       "      <td>0.0</td>\n",
       "    </tr>\n",
       "  </tbody>\n",
       "</table>\n",
       "</div>"
      ],
      "text/plain": [
       "     Close        Date     High      Low     Open     neg     pos  target\n",
       "0  8555.60  2009-06-18  8590.52  8475.12  8496.73  0.6436  0.3564     0.0\n",
       "1  8539.73  2009-06-19  8616.59  8496.73  8556.96  0.6369  0.3631     0.0\n",
       "2  8439.37  2009-06-20  8577.71  8415.64  8547.74  0.6488  0.3512     0.0\n",
       "3  8389.19  2009-06-21  8558.27  8375.09  8543.13  0.6476  0.3524     0.0\n",
       "4  8339.01  2009-06-22  8538.83  8334.55  8538.52  0.6476  0.3524     0.0"
      ]
     },
     "execution_count": 65,
     "metadata": {},
     "output_type": "execute_result"
    }
   ],
   "source": [
    "train_data.head()"
   ]
  },
  {
   "cell_type": "code",
   "execution_count": 66,
   "metadata": {},
   "outputs": [
    {
     "data": {
      "text/plain": [
       "LogisticRegression(C=1.0, class_weight=None, dual=False, fit_intercept=True,\n",
       "          intercept_scaling=1, max_iter=100, multi_class='ovr', n_jobs=1,\n",
       "          penalty='l2', random_state=3, solver='liblinear', tol=0.0001,\n",
       "          verbose=0, warm_start=False)"
      ]
     },
     "execution_count": 66,
     "metadata": {},
     "output_type": "execute_result"
    }
   ],
   "source": [
    "from sklearn.linear_model import LogisticRegression\n",
    "\n",
    "\n",
    "clf = LogisticRegression(random_state=3)\n",
    "clf.fit(train_data_labels, train_targets)"
   ]
  },
  {
   "cell_type": "code",
   "execution_count": 67,
   "metadata": {},
   "outputs": [
    {
     "name": "stderr",
     "output_type": "stream",
     "text": [
      "/usr/local/lib/python2.7/dist-packages/sklearn/utils/validation.py:395: DeprecationWarning: Passing 1d arrays as data is deprecated in 0.17 and will raise ValueError in 0.19. Reshape your data either using X.reshape(-1, 1) if your data has a single feature or X.reshape(1, -1) if it contains a single sample.\n",
      "  DeprecationWarning)\n"
     ]
    },
    {
     "data": {
      "text/plain": [
       "array([ 1.])"
      ]
     },
     "execution_count": 67,
     "metadata": {},
     "output_type": "execute_result"
    }
   ],
   "source": [
    "clf.predict(train_data_labels.iloc[0])"
   ]
  },
  {
   "cell_type": "code",
   "execution_count": 68,
   "metadata": {},
   "outputs": [
    {
     "data": {
      "text/html": [
       "<div>\n",
       "<style>\n",
       "    .dataframe thead tr:only-child th {\n",
       "        text-align: right;\n",
       "    }\n",
       "\n",
       "    .dataframe thead th {\n",
       "        text-align: left;\n",
       "    }\n",
       "\n",
       "    .dataframe tbody tr th {\n",
       "        vertical-align: top;\n",
       "    }\n",
       "</style>\n",
       "<table border=\"1\" class=\"dataframe\">\n",
       "  <thead>\n",
       "    <tr style=\"text-align: right;\">\n",
       "      <th></th>\n",
       "      <th>Close</th>\n",
       "      <th>High</th>\n",
       "      <th>Low</th>\n",
       "      <th>Open</th>\n",
       "      <th>neg</th>\n",
       "      <th>pos</th>\n",
       "    </tr>\n",
       "  </thead>\n",
       "  <tbody>\n",
       "    <tr>\n",
       "      <th>0</th>\n",
       "      <td>10246.97</td>\n",
       "      <td>10260.80</td>\n",
       "      <td>10197.69</td>\n",
       "      <td>10223.01</td>\n",
       "      <td>0.6494</td>\n",
       "      <td>0.3506</td>\n",
       "    </tr>\n",
       "    <tr>\n",
       "      <th>1</th>\n",
       "      <td>10291.26</td>\n",
       "      <td>10341.97</td>\n",
       "      <td>10246.14</td>\n",
       "      <td>10247.42</td>\n",
       "      <td>0.6335</td>\n",
       "      <td>0.3665</td>\n",
       "    </tr>\n",
       "    <tr>\n",
       "      <th>2</th>\n",
       "      <td>10197.47</td>\n",
       "      <td>10321.64</td>\n",
       "      <td>10171.24</td>\n",
       "      <td>10289.82</td>\n",
       "      <td>0.6495</td>\n",
       "      <td>0.3505</td>\n",
       "    </tr>\n",
       "    <tr>\n",
       "      <th>3</th>\n",
       "      <td>10270.47</td>\n",
       "      <td>10305.69</td>\n",
       "      <td>10192.03</td>\n",
       "      <td>10197.85</td>\n",
       "      <td>0.6869</td>\n",
       "      <td>0.3131</td>\n",
       "    </tr>\n",
       "    <tr>\n",
       "      <th>4</th>\n",
       "      <td>10338.72</td>\n",
       "      <td>10369.97</td>\n",
       "      <td>10229.74</td>\n",
       "      <td>10232.84</td>\n",
       "      <td>0.6549</td>\n",
       "      <td>0.3451</td>\n",
       "    </tr>\n",
       "  </tbody>\n",
       "</table>\n",
       "</div>"
      ],
      "text/plain": [
       "      Close      High       Low      Open     neg     pos\n",
       "0  10246.97  10260.80  10197.69  10223.01  0.6494  0.3506\n",
       "1  10291.26  10341.97  10246.14  10247.42  0.6335  0.3665\n",
       "2  10197.47  10321.64  10171.24  10289.82  0.6495  0.3505\n",
       "3  10270.47  10305.69  10192.03  10197.85  0.6869  0.3131\n",
       "4  10338.72  10369.97  10229.74  10232.84  0.6549  0.3451"
      ]
     },
     "execution_count": 68,
     "metadata": {},
     "output_type": "execute_result"
    }
   ],
   "source": [
    "test_df.index = range(len(test_df))\n",
    "# test_df.head()\n",
    "test_data = build_set(test_df)\n",
    "test_targets = test_data['target']\n",
    "test_data_labels = test_data.drop(['Date' ,'target'], axis=1)\n",
    "test_data_labels.head()"
   ]
  },
  {
   "cell_type": "code",
   "execution_count": 69,
   "metadata": {},
   "outputs": [
    {
     "name": "stderr",
     "output_type": "stream",
     "text": [
      "/usr/local/lib/python2.7/dist-packages/ipykernel_launcher.py:3: DeprecationWarning: \n",
      ".ix is deprecated. Please use\n",
      ".loc for label based indexing or\n",
      ".iloc for positional indexing\n",
      "\n",
      "See the documentation here:\n",
      "http://pandas.pydata.org/pandas-docs/stable/indexing.html#deprecate_ix\n",
      "  This is separate from the ipykernel package so we can avoid doing imports until\n"
     ]
    }
   ],
   "source": [
    "for index, row in test_data.iterrows():\n",
    "    if row['target'] > row['Close']:\n",
    "        test_data.ix[index, 'target'] = 1\n",
    "    else:\n",
    "        test_data.ix[index, 'target'] = 0"
   ]
  },
  {
   "cell_type": "code",
   "execution_count": 74,
   "metadata": {},
   "outputs": [
    {
     "name": "stdout",
     "output_type": "stream",
     "text": [
      "The Logistic Regression return an accuracy of 63.89%\n"
     ]
    }
   ],
   "source": [
    "lgr_score = clf.score(test_data_labels, test_targets)\n",
    "print(\"The Logistic Regression return an accuracy of {:.2f}%\".format(lgr_score*100))"
   ]
  },
  {
   "cell_type": "code",
   "execution_count": null,
   "metadata": {
    "collapsed": true
   },
   "outputs": [],
   "source": []
  }
 ],
 "metadata": {
  "kernelspec": {
   "display_name": "Python 2",
   "language": "python",
   "name": "python2"
  },
  "language_info": {
   "codemirror_mode": {
    "name": "ipython",
    "version": 2
   },
   "file_extension": ".py",
   "mimetype": "text/x-python",
   "name": "python",
   "nbconvert_exporter": "python",
   "pygments_lexer": "ipython2",
   "version": "2.7.12"
  }
 },
 "nbformat": 4,
 "nbformat_minor": 2
}
